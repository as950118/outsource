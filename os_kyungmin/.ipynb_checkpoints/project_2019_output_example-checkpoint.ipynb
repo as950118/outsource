{
 "cells": [
  {
   "cell_type": "markdown",
   "metadata": {},
   "source": [
    "# 개별프로그램 과제 결과의 예"
   ]
  },
  {
   "cell_type": "markdown",
   "metadata": {},
   "source": [
    "#### 첫번째 셀 실행의 예"
   ]
  },
  {
   "cell_type": "code",
   "execution_count": 1,
   "metadata": {},
   "outputs": [
    {
     "name": "stdout",
     "output_type": "stream",
     "text": [
      "['1', '3', '2', '5', '9', '8', '4', '7', '6']\n",
      "['1', '3', '2']\n",
      "132\n"
     ]
    }
   ],
   "source": []
  },
  {
   "cell_type": "markdown",
   "metadata": {},
   "source": [
    "#### 두번째 셀 실행의 예"
   ]
  },
  {
   "cell_type": "code",
   "execution_count": 2,
   "metadata": {},
   "outputs": [
    {
     "name": "stdout",
     "output_type": "stream",
     "text": [
      "secret_number:  132\n",
      "서로 다른 3자리 숫자:456\n",
      "456\n",
      "위치는 틀리고 비밀번호와 값만 일치한 숫자 갯수: 0\n",
      "위치와 값 모두 일치하는 숫자 갯수: 0\n",
      "\n",
      "서로 다른 3자리 숫자:246\n",
      "456\n",
      "위치는 틀리고 비밀번호와 값만 일치한 숫자 갯수: 0\n",
      "위치와 값 모두 일치하는 숫자 갯수: 0\n",
      "246\n",
      "위치는 틀리고 비밀번호와 값만 일치한 숫자 갯수: 1\n",
      "위치와 값 모두 일치하는 숫자 갯수: 0\n",
      "\n",
      "서로 다른 3자리 숫자:225\n",
      "같은 숫자가 있습니다. 다시 입력하세요.\n",
      "456\n",
      "위치는 틀리고 비밀번호와 값만 일치한 숫자 갯수: 0\n",
      "위치와 값 모두 일치하는 숫자 갯수: 0\n",
      "246\n",
      "위치는 틀리고 비밀번호와 값만 일치한 숫자 갯수: 1\n",
      "위치와 값 모두 일치하는 숫자 갯수: 0\n",
      "\n",
      "서로 다른 3자리 숫자:231\n",
      "456\n",
      "위치는 틀리고 비밀번호와 값만 일치한 숫자 갯수: 0\n",
      "위치와 값 모두 일치하는 숫자 갯수: 0\n",
      "246\n",
      "위치는 틀리고 비밀번호와 값만 일치한 숫자 갯수: 1\n",
      "위치와 값 모두 일치하는 숫자 갯수: 0\n",
      "231\n",
      "위치는 틀리고 비밀번호와 값만 일치한 숫자 갯수: 2\n",
      "위치와 값 모두 일치하는 숫자 갯수: 1\n",
      "\n",
      "서로 다른 3자리 숫자:132\n",
      "456\n",
      "위치는 틀리고 비밀번호와 값만 일치한 숫자 갯수: 0\n",
      "위치와 값 모두 일치하는 숫자 갯수: 0\n",
      "246\n",
      "위치는 틀리고 비밀번호와 값만 일치한 숫자 갯수: 1\n",
      "위치와 값 모두 일치하는 숫자 갯수: 0\n",
      "231\n",
      "위치는 틀리고 비밀번호와 값만 일치한 숫자 갯수: 2\n",
      "위치와 값 모두 일치하는 숫자 갯수: 1\n",
      "\n",
      "비밀번호를 맞추었습니다: 132\n",
      "4 번 시도 했습니다.\n"
     ]
    }
   ],
   "source": [
    "       "
   ]
  }
 ],
 "metadata": {
  "kernelspec": {
   "display_name": "Python 3",
   "language": "python",
   "name": "python3"
  },
  "language_info": {
   "codemirror_mode": {
    "name": "ipython",
    "version": 3
   },
   "file_extension": ".py",
   "mimetype": "text/x-python",
   "name": "python",
   "nbconvert_exporter": "python",
   "pygments_lexer": "ipython3",
   "version": "3.7.4"
  }
 },
 "nbformat": 4,
 "nbformat_minor": 2
}
