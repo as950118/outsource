{
 "cells": [
  {
   "cell_type": "code",
   "execution_count": 14,
   "metadata": {},
   "outputs": [],
   "source": [
    "## 라이브러리 불러오기\n",
    "import pandas as pd\n",
    "import numpy as np\n",
    "import matplotlib.pyplot as plt\n",
    "import matplotlib\n",
    "import statistics\n",
    "from sklearn.preprocessing import StandardScaler\n",
    "from sklearn.tree import export_graphviz\n",
    "import graphviz\n",
    "from sklearn.tree import DecisionTreeClassifier\n",
    "from sklearn.ensemble import RandomForestClassifier\n",
    "from sklearn.ensemble import GradientBoostingClassifier\n",
    "from sklearn.model_selection import train_test_split\n",
    "from statsmodels.api import Logit\n",
    "from sklearn.metrics import accuracy_score\n",
    "from sklearn.metrics import confusion_matrix\n",
    "plt.rc('font',family='Malgun Gothic')\n",
    "plt.rc('font',family='NanumBarunGothic')"
   ]
  },
  {
   "cell_type": "code",
   "execution_count": 15,
   "metadata": {},
   "outputs": [
    {
     "name": "stderr",
     "output_type": "stream",
     "text": [
      "D:\\Program_Files\\Anaconda3\\lib\\site-packages\\ipykernel_launcher.py:4: SettingWithCopyWarning: \n",
      "A value is trying to be set on a copy of a slice from a DataFrame\n",
      "\n",
      "See the caveats in the documentation: http://pandas.pydata.org/pandas-docs/stable/indexing.html#indexing-view-versus-copy\n",
      "  after removing the cwd from sys.path.\n",
      "D:\\Program_Files\\Anaconda3\\lib\\site-packages\\ipykernel_launcher.py:6: SettingWithCopyWarning: \n",
      "A value is trying to be set on a copy of a slice from a DataFrame\n",
      "\n",
      "See the caveats in the documentation: http://pandas.pydata.org/pandas-docs/stable/indexing.html#indexing-view-versus-copy\n",
      "  \n",
      "D:\\Program_Files\\Anaconda3\\lib\\site-packages\\ipykernel_launcher.py:7: SettingWithCopyWarning: \n",
      "A value is trying to be set on a copy of a slice from a DataFrame\n",
      "\n",
      "See the caveats in the documentation: http://pandas.pydata.org/pandas-docs/stable/indexing.html#indexing-view-versus-copy\n",
      "  import sys\n"
     ]
    }
   ],
   "source": [
    "## 파일 불러오기\n",
    "wine_test = pd.read_csv('고객군집분류.csv',encoding = 'cp949')\n",
    "for i in range(64):\n",
    "    wine_test['wine_classified'][i]=wine_test['wine_classified'][i].split()\n",
    "for i in range(len(wine_test['wine_classified'])):\n",
    "    wine_test['wine_classified'][i] = map(int, wine_test['wine_classified'][i])   \n",
    "    wine_test['wine_classified'][i] = list(map(int, wine_test['wine_classified'][i]))\n"
   ]
  },
  {
   "cell_type": "code",
   "execution_count": 16,
   "metadata": {},
   "outputs": [],
   "source": [
    "## 와인과 안주를 추천하는 함수\n",
    "def wine_side_recommend(info):\n",
    "    alpha = ['A','B','C','D','E','F','G','H']\n",
    "    wine1 = ['B','C']\n",
    "    wine2 = ['A','F','H']\n",
    "    wine3 = ['D','E']\n",
    "    wine4 = ['G']\n",
    "    side1=['Brie','Gorgonzola']\n",
    "    side2=['Camenbert','Cheddar','Annon']\n",
    "    side3=['Ricotta','Roquefort']\n",
    "    side4=['Valencay']\n",
    "    wine_list=[]\n",
    "    find_id=wine_test[(wine_test['age']==info[0]) & (wine_test['gender']==info[1]) & (wine_test['job']==info[2]) & (wine_test['marital']==info[3])].index\n",
    "    input_list=wine_test.loc[find_id,'wine_classified'].values.tolist()[0]\n",
    "    max_3_index=sorted(range(len(input_list)), key=lambda i: input_list[i])[-3:]\n",
    "    max_3_index=reversed(max_3_index)\n",
    "    for i in max_3_index:\n",
    "        wine_list.append(alpha[i])\n",
    "    if wine_list[0] in wine1:\n",
    "        side_list=side1\n",
    "    elif wine_list[0] in wine2:\n",
    "        side_list=side2\n",
    "    elif wine_list[0] in wine3:\n",
    "        side_list=side3\n",
    "    else:\n",
    "        side_list=side4\n",
    "    return wine_list,side_list\n"
   ]
  },
  {
   "cell_type": "code",
   "execution_count": 17,
   "metadata": {},
   "outputs": [
    {
     "name": "stdout",
     "output_type": "stream",
     "text": [
      "와인을 추천할게요!!['H', 'G', 'E']\n",
      "와인에 맞는 안주를 추천할게요!!['Camenbert', 'Cheddar', 'Annon']\n"
     ]
    }
   ],
   "source": [
    "##age\tgender\t job\tmarital\n",
    "\n",
    "##20대  FEMALE  임시직 MARREID\n",
    "##30대  MALE    자영업 SINGLE\n",
    "##40대          전문직\n",
    "##50대          회사원\n",
    "info=[2,1,3,0]      \n",
    "print(\"와인을 추천할게요!!{0}\".format((wine_side_recommend(info)[0]))) # 의사결정나무를 이용해서 얻은 기준을 통해 와인 TOP3 선정\n",
    "print(\"와인에 맞는 안주를 추천할게요!!{0}\".format(wine_side_recommend(info)[1])) # TOP1 와인과 어울리는 안주 추천하기"
   ]
  },
  {
   "cell_type": "code",
   "execution_count": null,
   "metadata": {},
   "outputs": [],
   "source": []
  }
 ],
 "metadata": {
  "kernelspec": {
   "display_name": "Python 3",
   "language": "python",
   "name": "python3"
  },
  "language_info": {
   "codemirror_mode": {
    "name": "ipython",
    "version": 3
   },
   "file_extension": ".py",
   "mimetype": "text/x-python",
   "name": "python",
   "nbconvert_exporter": "python",
   "pygments_lexer": "ipython3",
   "version": "3.7.4"
  }
 },
 "nbformat": 4,
 "nbformat_minor": 2
}
