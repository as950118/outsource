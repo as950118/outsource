{
 "cells": [
  {
   "cell_type": "code",
   "execution_count": 542,
   "metadata": {},
   "outputs": [],
   "source": [
    "import numpy as np\n",
    "responed = [17, 15, 71, 322, 401, 511]\n",
    "m = 1 # slope\n",
    "s = responed[5]/sum(responed)\n",
    "r = responed[0]/sum(responed)\n",
    "c = (2- ((s-r)**2) * m)/2*(s-r) # bias"
   ]
  },
  {
   "cell_type": "code",
   "execution_count": 543,
   "metadata": {},
   "outputs": [
    {
     "data": {
      "text/plain": [
       "(array([0.01271503, 0.01121915, 0.05310396, 0.2408377 , 0.29992521,\n",
       "        0.38219895]), [0, 1, 2, 3, 4, 5])"
      ]
     },
     "execution_count": 543,
     "metadata": {},
     "output_type": "execute_result"
    }
   ],
   "source": [
    "per_responed = [x/sum(responed) for x in responed]\n",
    "x = np.asarray(per_responed)\n",
    "y = [0,1,2,3,4,5]\n",
    "x, y"
   ]
  },
  {
   "cell_type": "code",
   "execution_count": 544,
   "metadata": {},
   "outputs": [
    {
     "data": {
      "text/plain": [
       "array([[0.01271503, 1.        ],\n",
       "       [0.01121915, 1.        ],\n",
       "       [0.05310396, 1.        ],\n",
       "       [0.2408377 , 1.        ],\n",
       "       [0.29992521, 1.        ],\n",
       "       [0.38219895, 1.        ]])"
      ]
     },
     "execution_count": 544,
     "metadata": {},
     "output_type": "execute_result"
    }
   ],
   "source": [
    "X = np.vstack([x, np.ones(len(x))]).T\n",
    "X"
   ]
  },
  {
   "cell_type": "code",
   "execution_count": 545,
   "metadata": {},
   "outputs": [
    {
     "data": {
      "text/plain": [
       "<bayespy.inference.vmp.nodes.gaussian.GaussianARD at 0x25dbfb6b0c8>"
      ]
     },
     "execution_count": 545,
     "metadata": {},
     "output_type": "execute_result"
    }
   ],
   "source": [
    "from bayespy.nodes import GaussianARD\n",
    "B = GaussianARD(0, 1e-6, shape=(2,))\n",
    "B"
   ]
  },
  {
   "cell_type": "code",
   "execution_count": 546,
   "metadata": {},
   "outputs": [
    {
     "data": {
      "text/plain": [
       "<bayespy.inference.vmp.nodes.dot.SumMultiply at 0x25dc14ceb88>"
      ]
     },
     "execution_count": 546,
     "metadata": {},
     "output_type": "execute_result"
    }
   ],
   "source": [
    "from bayespy.nodes import SumMultiply\n",
    "F = SumMultiply('i,i', B, X)\n",
    "F"
   ]
  },
  {
   "cell_type": "code",
   "execution_count": 547,
   "metadata": {},
   "outputs": [
    {
     "data": {
      "text/plain": [
       "<bayespy.inference.vmp.nodes.gamma.Gamma at 0x25dc19172c8>"
      ]
     },
     "execution_count": 547,
     "metadata": {},
     "output_type": "execute_result"
    }
   ],
   "source": [
    "from bayespy.nodes import Gamma\n",
    "tau = Gamma(1e-3, 1e-3)\n",
    "tau"
   ]
  },
  {
   "cell_type": "code",
   "execution_count": 548,
   "metadata": {},
   "outputs": [
    {
     "data": {
      "text/plain": [
       "<bayespy.inference.vmp.nodes.gaussian.GaussianARD at 0x25dc137dc88>"
      ]
     },
     "execution_count": 548,
     "metadata": {},
     "output_type": "execute_result"
    }
   ],
   "source": [
    "Y = GaussianARD(F, tau)\n",
    "Y"
   ]
  },
  {
   "cell_type": "code",
   "execution_count": 549,
   "metadata": {},
   "outputs": [],
   "source": [
    "Y.observe(y)"
   ]
  },
  {
   "cell_type": "code",
   "execution_count": 550,
   "metadata": {},
   "outputs": [],
   "source": [
    "from bayespy.inference import VB\n",
    "Q = VB(Y, B, tau)"
   ]
  },
  {
   "cell_type": "code",
   "execution_count": 551,
   "metadata": {},
   "outputs": [
    {
     "name": "stdout",
     "output_type": "stream",
     "text": [
      "Iteration 1: loglike=-2.599588e+01 (0.002 seconds)\n",
      "Iteration 2: loglike=-2.566996e+01 (0.002 seconds)\n",
      "Iteration 3: loglike=-2.559766e+01 (0.002 seconds)\n",
      "Iteration 4: loglike=-2.558661e+01 (0.002 seconds)\n",
      "Iteration 5: loglike=-2.558522e+01 (0.002 seconds)\n",
      "Iteration 6: loglike=-2.558506e+01 (0.003 seconds)\n",
      "Converged at iteration 6.\n"
     ]
    }
   ],
   "source": [
    "Q.update(repeat=5000)"
   ]
  },
  {
   "cell_type": "code",
   "execution_count": 552,
   "metadata": {},
   "outputs": [],
   "source": [
    "xh = np.linspace(0,5, 100)\n",
    "Xh = np.vstack([xh, np.ones(len(xh))]).T\n",
    "Fh = SumMultiply('i,i', B, Xh)"
   ]
  },
  {
   "cell_type": "code",
   "execution_count": 553,
   "metadata": {},
   "outputs": [
    {
     "data": {
      "image/png": "[encoded data removed]",
      "text/plain": [
       "<Figure size 432x288 with 1 Axes>"
      ]
     },
     "metadata": {
      "needs_background": "light"
     },
     "output_type": "display_data"
    }
   ],
   "source": [
    "import bayespy.plot as bpplt\n",
    "bpplt.pyplot.figure()\n",
    "#bpplt.plot(Fh, x=xh, scale=2)\n",
    "bpplt.plot(x, x=y, color='black', marker='o', linestyle='None')\n",
    "bpplt.plot((m*xh+c)/(1377/100), x=xh, color='r');"
   ]
  },
  {
   "cell_type": "code",
   "execution_count": null,
   "metadata": {},
   "outputs": [],
   "source": []
  }
 ],
 "metadata": {
  "kernelspec": {
   "display_name": "Python 3",
   "language": "python",
   "name": "python3"
  },
  "language_info": {
   "codemirror_mode": {
    "name": "ipython",
    "version": 3
   },
   "file_extension": ".py",
   "mimetype": "text/x-python",
   "name": "python",
   "nbconvert_exporter": "python",
   "pygments_lexer": "ipython3",
   "version": "3.7.4"
  }
 },
 "nbformat": 4,
 "nbformat_minor": 2
}
